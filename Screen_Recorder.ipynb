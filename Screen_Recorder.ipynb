{
 "cells": [
  {
   "cell_type": "code",
   "execution_count": 1,
   "id": "be7a75b0",
   "metadata": {},
   "outputs": [],
   "source": [
    "import pyautogui as pyt\n",
    "import cv2 as cv\n",
    "import numpy as np"
   ]
  },
  {
   "cell_type": "code",
   "execution_count": 2,
   "id": "e9012e1c",
   "metadata": {},
   "outputs": [],
   "source": [
    "def ScreenSize():\n",
    "    img = pyt.screenshot()\n",
    "    img = np.array(img)\n",
    "    height, width, layers = img.shape\n",
    "    size = (width,height)\n",
    "    return size\n",
    "\n",
    "def Screen_Recorder(out_video):\n",
    "    for i in range(480):\n",
    "        img = pyt.screenshot()\n",
    "        frame = np.array(img)\n",
    "        frame = cv.cvtColor(frame, cv.COLOR_BGR2RGB)\n",
    "        out_video.write(frame)\n",
    "    cv.destroyAllWindows()\n",
    "    return out_video.release()\n",
    "\n",
    "if __name__==\"__main__\":\n",
    "    fourcc = cv.VideoWriter_fourcc(*\"XVID\")\n",
    "    out_video = cv.VideoWriter(\"Recording.mp4\", fourcc, 24.0, ScreenSize())\n",
    "    Screen_Recorder(out_video)"
   ]
  }
 ],
 "metadata": {
  "kernelspec": {
   "display_name": "Python 3 (ipykernel)",
   "language": "python",
   "name": "python3"
  },
  "language_info": {
   "codemirror_mode": {
    "name": "ipython",
    "version": 3
   },
   "file_extension": ".py",
   "mimetype": "text/x-python",
   "name": "python",
   "nbconvert_exporter": "python",
   "pygments_lexer": "ipython3",
   "version": "3.9.7"
  }
 },
 "nbformat": 4,
 "nbformat_minor": 5
}
